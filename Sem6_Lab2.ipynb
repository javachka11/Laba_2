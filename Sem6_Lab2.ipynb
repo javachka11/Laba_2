{
  "nbformat": 4,
  "nbformat_minor": 0,
  "metadata": {
    "colab": {
      "name": "Sem6_Lab2.ipynb",
      "provenance": [],
      "collapsed_sections": [
        "O_cNLSjaVkj4",
        "OgWRUwkvXr_N",
        "Raodc86wXj8s",
        "oYe4qJEYX4aY"
      ],
      "authorship_tag": "ABX9TyPcVIh6BTmGXEamV3tBdjYd",
      "include_colab_link": true
    },
    "kernelspec": {
      "name": "python3",
      "display_name": "Python 3"
    },
    "language_info": {
      "name": "python"
    }
  },
  "cells": [
    {
      "cell_type": "markdown",
      "metadata": {
        "id": "view-in-github",
        "colab_type": "text"
      },
      "source": [
        "<a href=\"https://colab.research.google.com/github/javachka11/Laba_2/blob/main/Sem6_Lab2.ipynb\" target=\"_parent\"><img src=\"https://colab.research.google.com/assets/colab-badge.svg\" alt=\"Open In Colab\"/></a>"
      ]
    },
    {
      "cell_type": "markdown",
      "source": [
        "# **Импорт библиотек**"
      ],
      "metadata": {
        "id": "O_cNLSjaVkj4"
      }
    },
    {
      "cell_type": "code",
      "execution_count": null,
      "metadata": {
        "id": "OYXDHVzerGiU"
      },
      "outputs": [],
      "source": [
        "from typing import List\n",
        "import math\n",
        "import matplotlib.pyplot as plt\n",
        "import matplotlib.animation as animation\n",
        "from decimal import Decimal"
      ]
    },
    {
      "cell_type": "markdown",
      "source": [
        "# **Алгоритм прогонки**"
      ],
      "metadata": {
        "id": "OgWRUwkvXr_N"
      }
    },
    {
      "cell_type": "code",
      "source": [
        "Matrix = List[List[float]]\n",
        "Vector = List[float]\n",
        "\n",
        "def progonka(X: Matrix, V: Vector):\n",
        "  A_arr = []\n",
        "  B_arr = []\n",
        "  A0 = - X[0][1] / X[0][0]\n",
        "  B0 = V[0] / X[0][0]\n",
        "  A_arr.append(A0)\n",
        "  B_arr.append(B0)\n",
        "  for i in range(1, len(X) - 1):\n",
        "    Ai = - X[i][i+1] / (X[i][i] + X[i][i-1]*A_arr[i-1])\n",
        "    Bi = (V[i] - X[i][i-1]*B_arr[i-1]) / (X[i][i] + X[i][i-1]*A_arr[i-1])\n",
        "    A_arr.append(Ai)\n",
        "    B_arr.append(Bi)\n",
        "\n",
        "  An = 0\n",
        "  Bn = ( (V[len(X)-1] - X[len(X)-1][len(X)-2]*B_arr[len(X)-2]) / \n",
        "        (X[len(X)-1][len(X)-1] + X[len(X)-1][len(X)-2]*A_arr[len(X)-2]) )\n",
        "\n",
        "  yn = Bn\n",
        "  y_arr = []\n",
        "  y_arr.append(yn)\n",
        "  for i in range(len(X) - 2, -1, -1):\n",
        "    yi = B_arr[i] + A_arr[i]*y_arr[len(X) - i - 2]\n",
        "    y_arr.append(yi)\n",
        "  \n",
        "  y_arr.reverse()\n",
        "\n",
        "  return y_arr"
      ],
      "metadata": {
        "id": "ATOQjwLCmGNk"
      },
      "execution_count": null,
      "outputs": []
    },
    {
      "cell_type": "markdown",
      "source": [
        "# **Разностное решение (1-го и 2-го порядков) задачи на теплопроводность**"
      ],
      "metadata": {
        "id": "Raodc86wXj8s"
      }
    },
    {
      "cell_type": "code",
      "source": [
        "def uniform_net(a, b, h):\n",
        "  step = (b - a) / ((b - a) / h) # шаг сетки\n",
        "  nodes = []\n",
        "  nodes.append(a)\n",
        "  x = a\n",
        "  while x != b:\n",
        "    x = Decimal(str(x)) + Decimal(str(step))\n",
        "    nodes.append(float(x))\n",
        "  return nodes\n",
        "\n",
        "def heat_task(t0, a, b, coef, func, u_x0, border_coeffs_a, border_coeffs_b):\n",
        "  return (t0, a, b, coef, func, u_x0, border_coeffs_a, border_coeffs_b)\n",
        "\n",
        "def solver_1(t, wt, net, arr, sigma, h, tau):\n",
        "  if t == wt[0]:\n",
        "    arr[0] = [wt[5](x) for x in net]\n",
        "    arr[1] = [y for y in arr[0]]\n",
        "  else:\n",
        "    f_arr = [wt[4](x, t-tau/2) for x in net]\n",
        "    X = []\n",
        "    V = []\n",
        "    X.append([])\n",
        "    X[0].append(-wt[6][0]/h + wt[6][1])\n",
        "    X[0].append(wt[6][0]/h)\n",
        "    V.append(wt[6][2](t))\n",
        "    for i in range(1, len(net)-1):\n",
        "      X.append([])\n",
        "      for j in range(i-1):\n",
        "        X[i].append(0)\n",
        "      X[i].append(sigma*wt[3]*tau/h**2)\n",
        "      X[i].append(-2*sigma*wt[3]*tau/h**2 - 1)\n",
        "      X[i].append(sigma*wt[3]*tau/h**2)\n",
        "      V.append(-arr[0][i] - f_arr[i]*tau - (1-sigma)*wt[3]*tau/h**2*(arr[0][i+1]-2*arr[0][i]+arr[0][i-1]))\n",
        "    \n",
        "    X.append([])\n",
        "    for j in range(len(net)-2):\n",
        "        X[len(net)-1].append(0)\n",
        "    X[len(net)-1].append(-wt[7][0]/h)\n",
        "    X[len(net)-1].append(wt[7][0]/h + wt[7][1])\n",
        "    V.append(wt[7][2](t))\n",
        "\n",
        "    arr[1] = progonka(X, V)\n",
        "    arr[0] = [x for x in arr[1]]\n",
        "\n",
        "def solver_2(t, wt, net, arr, sigma, h, tau):\n",
        "  if t == wt[0]:\n",
        "    arr[0] = [wt[5](x) for x in net]\n",
        "    arr[1] = [y for y in arr[0]]\n",
        "  else:\n",
        "    f_arr = [wt[4](x, t-tau/2) for x in net]\n",
        "    X = []\n",
        "    V = []\n",
        "    X.append([])\n",
        "    X[0].append(2*sigma*wt[3]*tau/h**2 - 2*sigma*wt[6][1]*wt[3]*tau/(wt[6][0]*h) + 1)\n",
        "    X[0].append(-2*sigma*wt[3]*tau/h**2)\n",
        "    V.append(tau*f_arr[0] + 2*(1-sigma)*wt[3]*tau/h**2 * \n",
        "             (arr[0][1]-arr[0][0]+h*wt[6][1]*arr[0][0]/wt[6][0]-h*wt[6][2](t-tau)/wt[6][0]) -\n",
        "             2*sigma*wt[3]*tau*wt[6][2](t)/(h*wt[6][0]) + arr[0][0])\n",
        "    for i in range(1, len(net)-1):\n",
        "      X.append([])\n",
        "      for j in range(i-1):\n",
        "        X[i].append(0)\n",
        "      X[i].append(sigma*wt[3]*tau/h**2)\n",
        "      X[i].append(-2*sigma*wt[3]*tau/h**2 - 1)\n",
        "      X[i].append(sigma*wt[3]*tau/h**2)\n",
        "      V.append(-arr[0][i] - f_arr[i]*tau - (1-sigma)*wt[3]*tau/h**2*(arr[0][i+1]-2*arr[0][i]+arr[0][i-1]))\n",
        "    \n",
        "    X.append([])\n",
        "    for j in range(len(net)-2):\n",
        "        X[len(net)-1].append(0)\n",
        "    X[len(net)-1].append(-2*sigma*wt[3]*tau/h**2)\n",
        "    X[len(net)-1].append(2*sigma*wt[3]*tau/h**2 + 2*sigma*wt[7][1]*wt[3]*tau/(wt[7][0]*h) + 1)\n",
        "    V.append(tau*f_arr[-1] + 2*(1-sigma)*wt[3]*tau/h**2 * \n",
        "             (arr[0][-2]-arr[0][-1]-h*wt[7][1]*arr[0][-1]/wt[7][0]+h*wt[7][2](t-tau)/wt[7][0]) +\n",
        "             2*sigma*wt[3]*tau*wt[7][2](t)/(h*wt[7][0]) + arr[0][-1])\n",
        "\n",
        "    arr[1] = progonka(X, V)\n",
        "    arr[0] = [x for x in arr[1]]\n",
        "\n",
        "\n",
        "def solver(t, wt, net, arr, sigma, h, tau, order, ax, min_val=-2.5, max_val=2.5):\n",
        "  if order == 1:\n",
        "    solver_1(t, wt, net, arr, sigma, h, tau)\n",
        "    ax.clear()\n",
        "    x1,x2,y1,y2 = ax.axis()\n",
        "    ax.axis((x1,x2,min_val,max_val))\n",
        "    line = ax.plot(net, arr[1])\n",
        "    return line\n",
        "  elif order == 2:\n",
        "    solver_2(t, wt, net, arr, sigma, h, tau)\n",
        "    ax.clear()\n",
        "    x1,x2,y1,y2 = ax.axis()\n",
        "    ax.axis((x1,x2,min_val,max_val))\n",
        "    line = ax.plot(net, arr[1])\n",
        "    return line\n",
        "  else:\n",
        "    print('error!')"
      ],
      "metadata": {
        "id": "NJFMQmLilV0E"
      },
      "execution_count": null,
      "outputs": []
    },
    {
      "cell_type": "markdown",
      "source": [
        "# **Основная задача**"
      ],
      "metadata": {
        "id": "oYe4qJEYX4aY"
      }
    },
    {
      "cell_type": "code",
      "source": [
        "def ex1_f(x, t):\n",
        "  return (x + 2*t**2 * math.tanh(x*t)) / math.cosh(x*t)**2\n",
        "\n",
        "def ex1_u1(x):\n",
        "  return x\n",
        "\n",
        "def ex1_u2(t):\n",
        "  return 1 + t\n",
        "\n",
        "def ex1_u3(t):\n",
        "  return 1 + t/math.cosh(t)**2\n",
        "\n",
        "'''def ex2_f(x, t):\n",
        "  return math.exp(x)/2*(1/math.cos(t)**2-math.tan(t))\n",
        "\n",
        "def ex2_u1(x):\n",
        "  return -x/2\n",
        "\n",
        "def ex2_u2(t):\n",
        "  return math.tan(t) - 0.5\n",
        "\n",
        "def ex2_u3(t):\n",
        "  return (math.e*math.tan(t)-1)/2'''"
      ],
      "metadata": {
        "id": "8rK_hH7EZr2s"
      },
      "execution_count": null,
      "outputs": []
    },
    {
      "cell_type": "code",
      "source": [
        "def ans(t, net, ax):\n",
        "  y_arr = [net[i] + math.tanh(net[i]*t) for i in range(len(net))]\n",
        "  ax.clear()\n",
        "  x1,x2,y1,y2 = ax.axis()\n",
        "  ax.axis((x1,x2,-2, 4))\n",
        "  line = ax.plot(net, y_arr)\n",
        "  return line\n",
        "\n",
        "def ans_res(t, net):\n",
        "  y_arr = [net[i] + math.tanh(net[i]*t) for i in range(len(net))]\n",
        "  return y_arr\n",
        "\n",
        "'''def ans2(t, net, ax):\n",
        "  y_arr = [(math.exp(net[i])*math.tan(t)-net[i])/2 for i in range(len(net))]\n",
        "  ax.clear()\n",
        "  x1,x2,y1,y2 = ax.axis()\n",
        "  ax.axis((x1,x2,-5, 20))\n",
        "  line = ax.plot(net, y_arr)\n",
        "  return line'''"
      ],
      "metadata": {
        "id": "FKUvbrtZ68uc"
      },
      "execution_count": null,
      "outputs": []
    },
    {
      "cell_type": "code",
      "source": [
        "def abs_error(arr1, arr2):\n",
        "  assert len(arr1)==len(arr2)\n",
        "  array = [math.fabs(arr1[i] - arr2[i]) for i in range(len(arr1))]\n",
        "  return array"
      ],
      "metadata": {
        "id": "Whvls46F0xek"
      },
      "execution_count": null,
      "outputs": []
    },
    {
      "cell_type": "code",
      "source": [
        "def main():\n",
        "  fig, ax = plt.subplots()\n",
        "\n",
        "  h = 0.001\n",
        "  tau = 0.01\n",
        "\n",
        "  t_arr = uniform_net(0, 3, tau)\n",
        "  net = uniform_net(0, 1, h)\n",
        "\n",
        "  ht = heat_task(0, 0, 1, 1, ex1_f, ex1_u1, (1, 1, ex1_u2), (1, 0, ex1_u3))\n",
        "  arr = 3*[len(net)*[0]]\n",
        "  \n",
        "  ht_animation = animation.FuncAnimation(fig,\n",
        "                                      solver,\n",
        "                                      frames=t_arr,\n",
        "                                      fargs = (ht, net, arr, 1/2, h, tau, 2, ax, -2, 4),\n",
        "                                      #fargs = (net, ax),\n",
        "                                      interval = 50,\n",
        "                                      repeat = False)\n",
        "  ht_animation.save('heat_task_2.gif',\n",
        "                    writer = 'pillow',\n",
        "                    fps = 30)"
      ],
      "metadata": {
        "id": "M7BeVnOj23o5"
      },
      "execution_count": null,
      "outputs": []
    },
    {
      "cell_type": "code",
      "source": [
        "main()"
      ],
      "metadata": {
        "colab": {
          "base_uri": "https://localhost:8080/",
          "height": 269
        },
        "id": "xeWCQt_g3l_Q",
        "outputId": "d0745343-6646-409e-fbfd-312597d2cdbf"
      },
      "execution_count": null,
      "outputs": [
        {
          "output_type": "display_data",
          "data": {
            "text/plain": [
              "<Figure size 432x288 with 1 Axes>"
            ],
            "image/png": "[encoded data removed]"
          },
          "metadata": {
            "needs_background": "light"
          }
        }
      ]
    },
    {
      "cell_type": "code",
      "source": [
        "def error_task():\n",
        "  h = 0.001\n",
        "  tau = 0.01\n",
        "\n",
        "  t_arr = uniform_net(0, 3, tau)\n",
        "  net = uniform_net(0, 1, h)\n",
        "\n",
        "  ht = heat_task(0, 0, 1, 1, ex1_f, ex1_u1, (1, 1, ex1_u2), (1, 0, ex1_u3))\n",
        "  arr = 3*[len(net)*[0]]\n",
        "  err1 = []\n",
        "  err2 = []\n",
        "  for t in t_arr:\n",
        "    solver_1(t, ht, net, arr, 1/2, h, tau)\n",
        "    res = ans_res(t, net)\n",
        "    err1.append(max(abs_error(arr[1], res)))\n",
        "\n",
        "  for t in t_arr:\n",
        "    solver_2(t, ht, net, arr, 1/2, h, tau)\n",
        "    res = ans_res(t, net)\n",
        "    err2.append(max(abs_error(arr[1], res)))\n",
        "  \n",
        "  print('Максимальное значение ошибки на сетке для 1-го порядка: ', max(err1))\n",
        "  print('Максимальное значение ошибки на сетке для 2-го порядка: ', max(err2))\n"
      ],
      "metadata": {
        "id": "U0wlnFnWf_ui"
      },
      "execution_count": null,
      "outputs": []
    },
    {
      "cell_type": "code",
      "source": [
        "error_task()"
      ],
      "metadata": {
        "colab": {
          "base_uri": "https://localhost:8080/"
        },
        "id": "f-t-sTKqmvLR",
        "outputId": "5e053f97-626e-454f-d384-5b628878a1c3"
      },
      "execution_count": null,
      "outputs": [
        {
          "output_type": "stream",
          "name": "stdout",
          "text": [
            "Максимальное значение ошибки на сетке для 1-го порядка:  0.008334681952485892\n",
            "Максимальное значение ошибки на сетке для 2-го порядка:  0.0007727656972282026\n"
          ]
        }
      ]
    }
  ]
}